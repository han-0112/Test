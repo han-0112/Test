{
  "nbformat": 4,
  "nbformat_minor": 0,
  "metadata": {
    "colab": {
      "name": "스마트네트워크시험.ipynb의 사본",
      "provenance": [],
      "collapsed_sections": []
    },
    "kernelspec": {
      "name": "python3",
      "display_name": "Python 3"
    }
  },
  "cells": [
    {
      "cell_type": "markdown",
      "metadata": {
        "id": "ujtBvwYSSgxo"
      },
      "source": [
        "1-1. 오류 메시지가 무엇인지 설명하고 문제를 해결하시오(5점)"
      ]
    },
    {
      "cell_type": "code",
      "metadata": {
        "id": "yb4qPKO4Sezu",
        "colab": {
          "base_uri": "https://localhost:8080/"
        },
        "outputId": "50e26abd-e3ee-4969-d0be-26b33bab2a26"
      },
      "source": [
        "print('hello world')\r\n",
        "# hello world에 작은 따옴표 (')가 빠졌기 떄문에 오류 발생했습니다."
      ],
      "execution_count": 1,
      "outputs": [
        {
          "output_type": "stream",
          "text": [
            "hello world\n"
          ],
          "name": "stdout"
        }
      ]
    },
    {
      "cell_type": "markdown",
      "metadata": {
        "id": "ldTfNFx-S_92"
      },
      "source": [
        "1-2. 오류 메시지가 무엇인지 설명하고 문제를 해결하시오(5점)"
      ]
    },
    {
      "cell_type": "code",
      "metadata": {
        "id": "urVg-KbpS99A",
        "colab": {
          "base_uri": "https://localhost:8080/"
        },
        "outputId": "9386dad5-da1e-4c31-9db9-d447dfcdad0a"
      },
      "source": [
        "# 답 : ( 변수 a를 선언할 때 '='가 아닌 '-'를 사용했고, print문에 들여쓰기가 사용되어 오류가 발생했습니다.  )\n",
        "a - \"hello\"\n",
        "     print(a)"
      ],
      "execution_count": 4,
      "outputs": [
        {
          "output_type": "stream",
          "text": [
            "hello\n"
          ],
          "name": "stdout"
        }
      ]
    },
    {
      "cell_type": "markdown",
      "metadata": {
        "id": "a8RouDMHTg1U"
      },
      "source": [
        "1-3. 오류 메시지가 무엇인지 설명하고 정확한 구문을 작성하시오(5점)"
      ]
    },
    {
      "cell_type": "code",
      "metadata": {
        "id": "6-VmFgdETkCG",
        "colab": {
          "base_uri": "https://localhost:8080/"
        },
        "outputId": "e769d87d-4b59-455d-deb2-9d2c2da6077c"
      },
      "source": [
        "# 답 : (  if문 밑에 있는 print문에서 들여쓰기가 되어 있어 (혹은 되어 있지 않아) 오류가 발생했습니다.           )\n",
        "if True:\n",
        "    print('hello')\n",
        "print('22')"
      ],
      "execution_count": 7,
      "outputs": [
        {
          "output_type": "stream",
          "text": [
            "hello\n",
            "22\n"
          ],
          "name": "stdout"
        }
      ]
    },
    {
      "cell_type": "markdown",
      "metadata": {
        "id": "0XDfBRoIfCEI"
      },
      "source": [
        "1-4 오류 메시지가 무엇인지 설명하고 정확한 구문을 작성하시오(5점)"
      ]
    },
    {
      "cell_type": "code",
      "metadata": {
        "id": "dvISk2fSTn-5",
        "colab": {
          "base_uri": "https://localhost:8080/"
        },
        "outputId": "5d3d3228-ad5a-4c32-f72f-8091d96b34b7"
      },
      "source": [
        "# 답 : ( 'import os'를 통해 os 모듈을 추가하지 않아 오류가 발생했습니다.    )\n",
        "import os\n",
        "os.listdir()"
      ],
      "execution_count": 8,
      "outputs": [
        {
          "output_type": "execute_result",
          "data": {
            "text/plain": [
              "['.config', 'sample_data']"
            ]
          },
          "metadata": {
            "tags": []
          },
          "execution_count": 8
        }
      ]
    },
    {
      "cell_type": "markdown",
      "metadata": {
        "id": "Vb_eiGPBfKnz"
      },
      "source": [
        "1-5 오류 메시지가 무엇인지 설명하고 정확한 구문을 작성하시오(5점)"
      ]
    },
    {
      "cell_type": "code",
      "metadata": {
        "id": "q-j1ka5fe-qf",
        "colab": {
          "base_uri": "https://localhost:8080/"
        },
        "outputId": "76dbd5c5-a0f5-41d5-a6e0-6f6ad88b464e"
      },
      "source": [
        "# 답 : ( 변수 a를 선언할 때, 데이터값의 소숫점 구분이 '.'이 아닌 ','가 들어가 오류가 발생했고, \n",
        "# 형변환을 위한 int 함수는 정수형의 데이터만 받길 원하기에 오류가 발생했다.\n",
        "# 먼저 변수 a를 float 함수로 형변환해주고 그다음 int로 형변환을 해줘야 오류가 발생하지 않습니다.              )\n",
        "a = '5.4321'\n",
        "int(float(a))"
      ],
      "execution_count": 12,
      "outputs": [
        {
          "output_type": "execute_result",
          "data": {
            "text/plain": [
              "5"
            ]
          },
          "metadata": {
            "tags": []
          },
          "execution_count": 12
        }
      ]
    },
    {
      "cell_type": "markdown",
      "metadata": {
        "id": "zvI1itWDf_B9"
      },
      "source": [
        "2-1. 두 수를 더해 결과를 반환하는 함수이다. 빈칸을 채우시오.(5점)"
      ]
    },
    {
      "cell_type": "code",
      "metadata": {
        "id": "7rtPJviDfafv",
        "colab": {
          "base_uri": "https://localhost:8080/"
        },
        "outputId": "5b8e6b92-9756-457c-df1c-38e495d7c8a0"
      },
      "source": [
        "def sum(v1, v2):\n",
        "    result = 0\n",
        "    result = v1 + v2\n",
        "    return result\n",
        "print(sum(10, 20))\n",
        "# result를 return 해주어야 하고, print문에서 sum 함수에 10 + 20이 아닌 10, 20을 각각 인자에 넣어줘야 두 수를 더한 값이 반환됩니다."
      ],
      "execution_count": 17,
      "outputs": [
        {
          "output_type": "stream",
          "text": [
            "30\n"
          ],
          "name": "stdout"
        }
      ]
    },
    {
      "cell_type": "markdown",
      "metadata": {
        "id": "_HY9EyIkgQw1"
      },
      "source": [
        "2-2. 전달받은 매개변수의 숫자와 관계없이 모든 매개변수를 곱하는 함수이다. 빈칸을 채우시오.(5점)\n"
      ]
    },
    {
      "cell_type": "code",
      "metadata": {
        "id": "L54szxRwgQGJ",
        "colab": {
          "base_uri": "https://localhost:8080/"
        },
        "outputId": "9d993b92-64f9-47b5-e9c0-7052ccaa6ac8"
      },
      "source": [
        "def multiply(*var):\n",
        "    result = 1\n",
        "    for num in var:\n",
        "        result = result * num\n",
        "    return result\n",
        "print(multiply(2,3,4))\n",
        "# 인자 값의 개수와 상관없이 튜플 형태로 전달할 수 있는 방법인 매개변수에 *를 붙입니다."
      ],
      "execution_count": 19,
      "outputs": [
        {
          "output_type": "stream",
          "text": [
            "24\n"
          ],
          "name": "stdout"
        }
      ]
    },
    {
      "cell_type": "markdown",
      "metadata": {
        "id": "yWnCQhBTh6N2"
      },
      "source": [
        "3-1. if 조건문을 사용해서 양수와 음수 및 0을 판별하는 프로그램을 만들어 보세요.(5점)"
      ]
    },
    {
      "cell_type": "code",
      "metadata": {
        "id": "deYiX-BMg5ws",
        "colab": {
          "base_uri": "https://localhost:8080/"
        },
        "outputId": "9079be65-61f0-4755-89c3-bdcfbe77b625"
      },
      "source": [
        "num = int(input(\"숫자 입력 : \"))\r\n",
        "if num > 0:\r\n",
        "  print(\"%d은 양수 입니다.\" %num)\r\n",
        "elif num < 0:\r\n",
        "  print(\"%d은 음수 입니다.\" %num)\r\n",
        "else:   \r\n",
        "  print(\"%d은 양수도 음수도 아닙니다.\" %num)"
      ],
      "execution_count": 21,
      "outputs": [
        {
          "output_type": "stream",
          "text": [
            "숫자 입력 : -5\n",
            "-5은 음수 입니다.\n"
          ],
          "name": "stdout"
        }
      ]
    },
    {
      "cell_type": "markdown",
      "metadata": {
        "id": "Aw4Iuhqch8nc"
      },
      "source": [
        "3-2. while문을 사용해서 (*)을 표시하는 프로그램을 만들어 보세요.(5점)\n"
      ]
    },
    {
      "cell_type": "code",
      "metadata": {
        "id": "7d15bsj5iDMh",
        "colab": {
          "base_uri": "https://localhost:8080/"
        },
        "outputId": "e2ed9c14-36f9-4c85-8eb2-e7e7401e4abc"
      },
      "source": [
        "# 출력 결과\n",
        "# *******\n",
        "# ******\n",
        "# *****\n",
        "# ****\n",
        "# ***\n",
        "# **\n",
        "# *\n",
        "i = 7\n",
        "\n",
        "while i > 0:\n",
        "  print(\"*\" * i)\n",
        "  i -= 1\n"
      ],
      "execution_count": 22,
      "outputs": [
        {
          "output_type": "stream",
          "text": [
            "*******\n",
            "******\n",
            "*****\n",
            "****\n",
            "***\n",
            "**\n",
            "*\n"
          ],
          "name": "stdout"
        }
      ]
    },
    {
      "cell_type": "markdown",
      "metadata": {
        "id": "ofpvw-4YiOJe"
      },
      "source": [
        "3-3. while문과 for문 중첩을 사용해서 구구단 프로그램을 만들어 보겠습니다. 전체를 출력하는 구구단이 아니라 1번을 입력하면 홀수 단(3, 5, 7, 9) 2번을 입력하면 짝수 단(2, 4, 6, 8) 3번을 입력하면 종료 그 외의 숫자를 입력하면 처음부터 다시 입력되게 하는 프로그램을 만들어 봅니다.(5점)"
      ]
    },
    {
      "cell_type": "code",
      "metadata": {
        "id": "jk2IrLsYiQmk"
      },
      "source": [
        ""
      ],
      "execution_count": null,
      "outputs": []
    },
    {
      "cell_type": "markdown",
      "metadata": {
        "id": "tJkVKpSXomLY"
      },
      "source": [
        "3-4. 메일주소의 도메인 찾아 출력하시오 (5점)"
      ]
    },
    {
      "cell_type": "code",
      "metadata": {
        "id": "vCHvu50konRm",
        "colab": {
          "base_uri": "https://localhost:8080/"
        },
        "outputId": "9830718d-4743-427e-cb3a-fa74e902f9ea"
      },
      "source": [
        "a = 'spartacodingclub@gmail.com'\n",
        "\n",
        "#채워야하는 함수\n",
        "def get_mail(s):\n",
        "    result = s.split('@') # '@'를 중점으로 분리\n",
        "    result = result[-1] # gmail.com을 인덱싱\n",
        "    return result\n",
        "#결과값 gmail.com이 나와야 정답입니다!\n",
        "print(get_mail(a))"
      ],
      "execution_count": 37,
      "outputs": [
        {
          "output_type": "stream",
          "text": [
            "gmail.com\n"
          ],
          "name": "stdout"
        }
      ]
    },
    {
      "cell_type": "markdown",
      "metadata": {
        "id": "zz48zI5_0qGR"
      },
      "source": [
        "4.1 파이썬의 socket 모듈을 활용해 'www.kbu.ac.kr'의 문자열 주소와 별칭, IP 주소를 알아 내시오(5점)"
      ]
    },
    {
      "cell_type": "code",
      "metadata": {
        "id": "OZVZGo38bRu7",
        "colab": {
          "base_uri": "https://localhost:8080/"
        },
        "outputId": "4287a0fb-cd9f-4bb3-c57f-4e28a5170501"
      },
      "source": [
        "from socket import *\r\n",
        "import socket\r\n",
        "HOSTS = [\"www.kbu.ac.kr\"]\r\n",
        "\r\n",
        "for host in HOSTS:\r\n",
        "  hostname, aliaslist, ipaddlist = socket.gethostbyname_ex(host) # 튜플 형태\r\n",
        "  print('Hostname : ', hostname)\r\n",
        "  print('Aliases : ', aliaslist)\r\n",
        "  print('Addresses : ', ipaddlist)"
      ],
      "execution_count": 54,
      "outputs": [
        {
          "output_type": "stream",
          "text": [
            "Hostname :  main.kbu.ac.kr\n",
            "Aliases :  ['www.kbu.ac.kr']\n",
            "Addresses :  ['220.90.96.15']\n"
          ],
          "name": "stdout"
        }
      ]
    },
    {
      "cell_type": "markdown",
      "metadata": {
        "id": "tn-v5fdIbSbr"
      },
      "source": [
        "4.2 파이썬의 socket 모듈을 활용해 'www.kbu.ac.kr'의 주소유형, 소켓 타입, 프로토콜 타입,도메인별칭, 소켓주소를 알아 내시오(5점)"
      ]
    },
    {
      "cell_type": "code",
      "metadata": {
        "id": "v7PV1eqeecTT",
        "colab": {
          "base_uri": "https://localhost:8080/",
          "height": 370
        },
        "outputId": "724d753f-5e19-4ef1-f937-fa00b67cd7c3"
      },
      "source": [
        "from socket import *\r\n",
        "import socket\r\n",
        "HOSTS = \"www.kbu.ac.kr\"\r\n",
        "\r\n",
        "def get_constans(prefix):\r\n",
        "    \r\n",
        "    return( dict((getattr(socket, n), n)\r\n",
        "                for n in dir(socket)\r\n",
        "                if n.startswith(prefix)))\r\n",
        "        \r\n",
        "families = get_constans('AF_')\r\n",
        "types = get_constans('SOCK_')\r\n",
        "protocols = get_constans('IPPROTO_')\r\n",
        "\r\n",
        "ressponses = socket.getaddrinfo(host='www.kbu.ac.kr',\r\n",
        "                               port='http',\r\n",
        "                               family=socket.AF_INET,\r\n",
        "                               type=socket.SOCK_STREAM,\r\n",
        "                               proto=socket.IPPROTO_TCP,\r\n",
        "                               flags=socket.AI_CANONNAME,)\r\n",
        "\r\n",
        "for response in socket.getaddrinfo(HOSTS, \"http\"):\r\n",
        "  family, socketype, proto, canonname, sockaddr = response\r\n",
        "  print('Family : ', families[family])\r\n",
        "  print('Type : ', types[socketype])\r\n",
        "  print('Protocol : ', protocols[proto])\r\n",
        "  print('Canonical name : ', canonname)\r\n",
        "  print('Socket address : ', sockaddr)\r\n",
        "\r\n",
        "# 주피터랩에서는 되는데, 콜랩에서는 안됩니다...."
      ],
      "execution_count": 16,
      "outputs": [
        {
          "output_type": "error",
          "ename": "gaierror",
          "evalue": "ignored",
          "traceback": [
            "\u001b[0;31m---------------------------------------------------------------------------\u001b[0m",
            "\u001b[0;31mgaierror\u001b[0m                                  Traceback (most recent call last)",
            "\u001b[0;32m<ipython-input-16-2742d4624683>\u001b[0m in \u001b[0;36m<module>\u001b[0;34m()\u001b[0m\n\u001b[1;32m     18\u001b[0m                                \u001b[0mtype\u001b[0m\u001b[0;34m=\u001b[0m\u001b[0msocket\u001b[0m\u001b[0;34m.\u001b[0m\u001b[0mSOCK_STREAM\u001b[0m\u001b[0;34m,\u001b[0m\u001b[0;34m\u001b[0m\u001b[0;34m\u001b[0m\u001b[0m\n\u001b[1;32m     19\u001b[0m                                \u001b[0mproto\u001b[0m\u001b[0;34m=\u001b[0m\u001b[0msocket\u001b[0m\u001b[0;34m.\u001b[0m\u001b[0mIPPROTO_TCP\u001b[0m\u001b[0;34m,\u001b[0m\u001b[0;34m\u001b[0m\u001b[0;34m\u001b[0m\u001b[0m\n\u001b[0;32m---> 20\u001b[0;31m                                flags=socket.AI_CANONNAME,)\n\u001b[0m\u001b[1;32m     21\u001b[0m \u001b[0;34m\u001b[0m\u001b[0m\n\u001b[1;32m     22\u001b[0m \u001b[0;32mfor\u001b[0m \u001b[0mresponse\u001b[0m \u001b[0;32min\u001b[0m \u001b[0msocket\u001b[0m\u001b[0;34m.\u001b[0m\u001b[0mgetaddrinfo\u001b[0m\u001b[0;34m(\u001b[0m\u001b[0mHOSTS\u001b[0m\u001b[0;34m,\u001b[0m \u001b[0;34m\"http\"\u001b[0m\u001b[0;34m)\u001b[0m\u001b[0;34m:\u001b[0m\u001b[0;34m\u001b[0m\u001b[0;34m\u001b[0m\u001b[0m\n",
            "\u001b[0;32m/usr/lib/python3.6/socket.py\u001b[0m in \u001b[0;36mgetaddrinfo\u001b[0;34m(host, port, family, type, proto, flags)\u001b[0m\n\u001b[1;32m    743\u001b[0m     \u001b[0;31m# and socket type values to enum constants.\u001b[0m\u001b[0;34m\u001b[0m\u001b[0;34m\u001b[0m\u001b[0;34m\u001b[0m\u001b[0m\n\u001b[1;32m    744\u001b[0m     \u001b[0maddrlist\u001b[0m \u001b[0;34m=\u001b[0m \u001b[0;34m[\u001b[0m\u001b[0;34m]\u001b[0m\u001b[0;34m\u001b[0m\u001b[0;34m\u001b[0m\u001b[0m\n\u001b[0;32m--> 745\u001b[0;31m     \u001b[0;32mfor\u001b[0m \u001b[0mres\u001b[0m \u001b[0;32min\u001b[0m \u001b[0m_socket\u001b[0m\u001b[0;34m.\u001b[0m\u001b[0mgetaddrinfo\u001b[0m\u001b[0;34m(\u001b[0m\u001b[0mhost\u001b[0m\u001b[0;34m,\u001b[0m \u001b[0mport\u001b[0m\u001b[0;34m,\u001b[0m \u001b[0mfamily\u001b[0m\u001b[0;34m,\u001b[0m \u001b[0mtype\u001b[0m\u001b[0;34m,\u001b[0m \u001b[0mproto\u001b[0m\u001b[0;34m,\u001b[0m \u001b[0mflags\u001b[0m\u001b[0;34m)\u001b[0m\u001b[0;34m:\u001b[0m\u001b[0;34m\u001b[0m\u001b[0;34m\u001b[0m\u001b[0m\n\u001b[0m\u001b[1;32m    746\u001b[0m         \u001b[0maf\u001b[0m\u001b[0;34m,\u001b[0m \u001b[0msocktype\u001b[0m\u001b[0;34m,\u001b[0m \u001b[0mproto\u001b[0m\u001b[0;34m,\u001b[0m \u001b[0mcanonname\u001b[0m\u001b[0;34m,\u001b[0m \u001b[0msa\u001b[0m \u001b[0;34m=\u001b[0m \u001b[0mres\u001b[0m\u001b[0;34m\u001b[0m\u001b[0;34m\u001b[0m\u001b[0m\n\u001b[1;32m    747\u001b[0m         addrlist.append((_intenum_converter(af, AddressFamily),\n",
            "\u001b[0;31mgaierror\u001b[0m: [Errno -8] Servname not supported for ai_socktype"
          ]
        }
      ]
    },
    {
      "cell_type": "markdown",
      "metadata": {
        "id": "TdzBji1ifPD1"
      },
      "source": [
        "4.3 다음은 TCP 소켓을 사용한 에코 서버 프로그램의 코딩입니다. 이 프로그램은 클라이언트가 보내온 메시지를 그대로 다시 되돌려 보내는 프로그램으로 한명의 클라이언트만 연속적으로 서비스합니다. 코딩을 완성하시오(5점)\r\n",
        "* 따로 실행하지 않아도 됩니다!!"
      ]
    },
    {
      "cell_type": "code",
      "metadata": {
        "id": "fECM_P3jnJEf",
        "colab": {
          "base_uri": "https://localhost:8080/",
          "height": 244
        },
        "outputId": "dad43876-0301-4d96-b976-e78df686f9e8"
      },
      "source": [
        "from socket import *\r\n",
        "import socket\r\n",
        "port = 2500\r\n",
        "BUFSIZE = 1024 \r\n",
        "\r\n",
        "sock= socket(socket.AF_INET, socket.SOCK_STREAM)\r\n",
        "sock.bind(('', port)) # 자신의 주소 사용\r\n",
        "sock.listen(1) # 최대 대기 클라이언트 수\r\n",
        "print(\"Waiting for client ...\")\r\n",
        "\r\n",
        "# 클라이언트의 연결 요청을 받는다.\r\n",
        "c_sock, (r_host, r_port) = socket.accept()\r\n",
        "print(\"connected by\", r_host, r_port)\r\n",
        "\r\n",
        "while True:\r\n",
        "    # 상대방 메시지 수신\r\n",
        "    data = c_sock.recv(BUFSIZE)\r\n",
        "    if not data: # 연결이 종료되었으면\r\n",
        "        break\r\n",
        "    print(\"Recevied message:\", data.decode())\r\n",
        "\r\n",
        "    # 수신 메시지를 다시 전송\r\n",
        "    c_sock.send(data)\r\n",
        "\r\n",
        "c_sock.close()\r\n",
        "        "
      ],
      "execution_count": 18,
      "outputs": [
        {
          "output_type": "error",
          "ename": "TypeError",
          "evalue": "ignored",
          "traceback": [
            "\u001b[0;31m---------------------------------------------------------------------------\u001b[0m",
            "\u001b[0;31mTypeError\u001b[0m                                 Traceback (most recent call last)",
            "\u001b[0;32m<ipython-input-18-21dd6bdc1ba8>\u001b[0m in \u001b[0;36m<module>\u001b[0;34m()\u001b[0m\n\u001b[1;32m      4\u001b[0m \u001b[0mBUFSIZE\u001b[0m \u001b[0;34m=\u001b[0m \u001b[0;36m1024\u001b[0m\u001b[0;34m\u001b[0m\u001b[0;34m\u001b[0m\u001b[0m\n\u001b[1;32m      5\u001b[0m \u001b[0;34m\u001b[0m\u001b[0m\n\u001b[0;32m----> 6\u001b[0;31m \u001b[0msock\u001b[0m\u001b[0;34m=\u001b[0m \u001b[0msocket\u001b[0m\u001b[0;34m(\u001b[0m\u001b[0msocket\u001b[0m\u001b[0;34m.\u001b[0m\u001b[0mAF_INET\u001b[0m\u001b[0;34m,\u001b[0m \u001b[0msocket\u001b[0m\u001b[0;34m.\u001b[0m\u001b[0mSOCK_STREAM\u001b[0m\u001b[0;34m)\u001b[0m\u001b[0;34m\u001b[0m\u001b[0;34m\u001b[0m\u001b[0m\n\u001b[0m\u001b[1;32m      7\u001b[0m \u001b[0msock\u001b[0m\u001b[0;34m.\u001b[0m\u001b[0mbind\u001b[0m\u001b[0;34m(\u001b[0m\u001b[0;34m(\u001b[0m\u001b[0;34m''\u001b[0m\u001b[0;34m,\u001b[0m \u001b[0mport\u001b[0m\u001b[0;34m)\u001b[0m\u001b[0;34m)\u001b[0m \u001b[0;31m# 자신의 주소 사용\u001b[0m\u001b[0;34m\u001b[0m\u001b[0;34m\u001b[0m\u001b[0m\n\u001b[1;32m      8\u001b[0m \u001b[0msock\u001b[0m\u001b[0;34m.\u001b[0m\u001b[0mlisten\u001b[0m\u001b[0;34m(\u001b[0m\u001b[0;36m1\u001b[0m\u001b[0;34m)\u001b[0m \u001b[0;31m# 최대 대기 클라이언트 수\u001b[0m\u001b[0;34m\u001b[0m\u001b[0;34m\u001b[0m\u001b[0m\n",
            "\u001b[0;31mTypeError\u001b[0m: 'module' object is not callable"
          ]
        }
      ]
    },
    {
      "cell_type": "markdown",
      "metadata": {
        "id": "SVSBC7KvgFiZ"
      },
      "source": [
        "4.4 아래 이름과 생년월일 테이블을 이용하여 이름을 수신하면 학번을 전송하는 서버 프로그램의 코딩을 완성하시오 (5점)\r\n",
        "\r\n",
        "table = {'진':19921204, '슈가':19930309, '제이홉':19940218, '뷔':19951230}\r\n",
        "* 따로 실행하지 않아도 됩니다!!"
      ]
    },
    {
      "cell_type": "code",
      "metadata": {
        "id": "U-TjyLsogE8q"
      },
      "source": [
        "import socket\r\n",
        "\r\n",
        "table = \r\n",
        "\r\n",
        "s = socket.socket() # AF_INET, SOCK_STREAM\r\n",
        "address = ('', 2500)\r\n",
        "s.bind(address)\r\n",
        "s.listen(1)\r\n",
        "print(\"Waiting...\")\r\n",
        "\r\n",
        "c_socket, c_addr =s.accept()\r\n",
        "print('connection from', c_addr)\r\n",
        "while True:\r\n",
        "    data = c_socket.recv(1024).decode() # 요청 수신\r\n",
        "    try :\r\n",
        "        resp = table[data] #데이터를 key로 사용하여 values를 가져온다.\r\n",
        "    except:\r\n",
        "        c_socket.send(\"try again\".encode()) # 오류가 있을 때\r\n",
        "    else:\r\n",
        "        c_socket.send(resp.encode()) # 변환 값을 전송"
      ],
      "execution_count": null,
      "outputs": []
    },
    {
      "cell_type": "markdown",
      "metadata": {
        "id": "jiALNLwVh-NJ"
      },
      "source": [
        "5.1 urlparse() 함수를 사용하여 'www.kbu.ac.kr'의 URL을 분해하여 다음 각 요소를 출력하시오 (5점)"
      ]
    },
    {
      "cell_type": "code",
      "metadata": {
        "id": "z-fZWitiiHb1",
        "colab": {
          "base_uri": "https://localhost:8080/"
        },
        "outputId": "332ee9a9-4ad2-405c-aecd-0311f1d9681d"
      },
      "source": [
        "from urllib.parse import urlparse\r\n",
        "url = \"www.kbu.ac.kr\"\r\n",
        "\r\n",
        "p_url = urlparse(url)\r\n",
        "\r\n",
        "print('scheme : ', p_url.scheme)\r\n",
        "print('netloc : ', p_url.netloc)\r\n",
        "print('path : ', p_url.path)\r\n",
        "print('path params : ', p_url.params)\r\n",
        "print('query : ', p_url.query)\r\n",
        "print('fragment', p_url.fragment)"
      ],
      "execution_count": 26,
      "outputs": [
        {
          "output_type": "stream",
          "text": [
            "scheme :  \n",
            "netloc :  \n",
            "path :  www.kbu.ac.kr\n",
            "path params :  \n",
            "query :  \n",
            "fragment \n"
          ],
          "name": "stdout"
        }
      ]
    },
    {
      "cell_type": "markdown",
      "metadata": {
        "id": "b5sD5WOajpXi"
      },
      "source": [
        "5.2 웹브라우저에서 요청을 받아 처리하는 간단한 HTTP GET 서버를 구현하는 코딩입니다. GET request를 받아 query가 \"led=on\"이면 \"LED is ON\"을 전송하고 \"led=off\"이면 \"LED is OFF\"를 전송하는 서버 프로그램입니다. 코드를 완성하시오(5점)\r\n",
        "* 따로 실행하지 않아도 됩니다!!"
      ]
    },
    {
      "cell_type": "code",
      "metadata": {
        "id": "rs_EpHxZj1Gu"
      },
      "source": [
        "from http.server import HTTPSERVER, BaseHTTPRequestHandler\r\n",
        "from urllib import parse\r\n",
        "\r\n",
        "#다중 query를 딕셔너리로 분해\r\n",
        "def query_parse(query):\r\n",
        "    a = query.split(\"&\")\r\n",
        "    temp = []\r\n",
        "    for item in a:\r\n",
        "        temp.append(item.split(\"=\"))\r\n",
        "    for i in range(len(temp)):\r\n",
        "        if len(temp[i]) ==i:\r\n",
        "            temp[i].append('')\r\n",
        "    \r\n",
        "    return dict(temp)\r\n",
        "\r\n",
        "class SimpleHTTPRequestHandler(BaseHTTPRequestHandler):\r\n",
        "    def do_GET(self):\r\n",
        "        parsed_path = parse.urlparse(self.path) # URL 분해\r\n",
        "        msg = parsed_path.query # URL에서 query를 찾는다.\r\n",
        "        if msg == '':\r\n",
        "            return\r\n",
        "        \r\n",
        "        #query를 딕셔너리로 분해한다.\r\n",
        "        parsed_query = query_parse(msg)\r\n",
        "\r\n",
        "        resp = \"Fault\" # 허용되지 않은 Query를 받았을 때 전송 메시지 \r\n",
        "\r\n",
        "        #query를 분석하여 응답 메시지를 구성\r\n",
        "        try:\r\n",
        "            if parsed_query[\"led\"] == \"on\":\r\n",
        "                resp = \"The LED is ON\"\r\n",
        "            elif parsed_query[\"led\"] == \"off\":\r\n",
        "                resp = \"The LED is OFF\"\r\n",
        "\r\n",
        "        except:\r\n",
        "            pass\r\n",
        "\r\n",
        "        #헤더 전송\r\n",
        "        self.send_response(200)\r\n",
        "        self.send_header('Content-Type',\r\n",
        "            'text/plain; charset=utf-8')\r\n",
        "\r\n",
        "        \r\n",
        "        self.end_headers()\r\n",
        "\r\n",
        "        #응답 전송 \r\n",
        "        self.wfile.write(resp.encode())\r\n",
        "\r\n",
        "        \r\n",
        "httpd = HTTPServer(('localhost',8080), SimpleHTTPRequestHandler)\r\n",
        "httpd.serve_forever()\r\n",
        "\r\n",
        "        "
      ],
      "execution_count": null,
      "outputs": []
    },
    {
      "cell_type": "markdown",
      "metadata": {
        "id": "0_m4zsZFk_Jm"
      },
      "source": [
        "6.1 asyncio tkinter, socket 모듈을 활용해서 채팅 서버와 클라이어트 프로그램을 작성하시오 클라이언트 프로그램을 시작하면 자신의 이름을 입력하고 채팅을 시작할수 있어야 합니다. 상대방에게 보내는 메시지 앞에 이름을 추가하여 송신할 수 있는 기능을 만드시오(15점)\r\n",
        "- 다 만들어진 프로그램은 github 올리고 주소를 입력하거나 아니면 보인 드라이브에 올리고 공유주소를 올리면 됩니다. \r\n",
        "- github에 올리고 주소를 올리는 경우 절대값 2점을 추가로 부여합니다. "
      ]
    },
    {
      "cell_type": "code",
      "metadata": {
        "id": "Wp7McW4Xkyw9"
      },
      "source": [
        ""
      ],
      "execution_count": null,
      "outputs": []
    }
  ]
}